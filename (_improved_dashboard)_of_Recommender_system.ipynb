{
  "nbformat": 4,
  "nbformat_minor": 0,
  "metadata": {
    "colab": {
      "provenance": [],
      "authorship_tag": "ABX9TyNZ3vi/16b8dweRRb8v2NB1",
      "include_colab_link": true
    },
    "kernelspec": {
      "name": "python3",
      "display_name": "Python 3"
    },
    "language_info": {
      "name": "python"
    }
  },
  "cells": [
    {
      "cell_type": "markdown",
      "metadata": {
        "id": "view-in-github",
        "colab_type": "text"
      },
      "source": [
        "<a href=\"https://colab.research.google.com/github/ctayaksi/business-growth-dashboard/blob/main/(_improved_dashboard)_of_Recommender_system.ipynb\" target=\"_parent\"><img src=\"https://colab.research.google.com/assets/colab-badge.svg\" alt=\"Open In Colab\"/></a>"
      ]
    },
    {
      "cell_type": "code",
      "source": [
        "import streamlit as st\n",
        "import pandas as pd\n",
        "import numpy as np\n",
        "import pickle\n",
        "import matplotlib.pyplot as plt\n",
        "import seaborn as sns\n",
        "from sklearn.ensemble import RandomForestClassifier\n",
        "from sklearn.model_selection import train_test_split\n",
        "from sklearn.metrics import accuracy_score"
      ],
      "metadata": {
        "id": "FVp-AqakFMXs"
      },
      "execution_count": 26,
      "outputs": []
    },
    {
      "cell_type": "code",
      "source": [
        "# ---------------------- PAGE CONFIGURATION ----------------------\n",
        "st.set_page_config(page_title=\"Business Growth Recommender\", layout=\"wide\")\n",
        "\n",
        "# ---------------------- CACHE LOADING FUNCTION ----------------------\n",
        "@st.cache_data\n",
        "def load_data():\n",
        "    uploaded_file = st.file_uploader(\"Upload your dataset (Excel format)\", type=[\"xlsx\"])\n",
        "    if uploaded_file is not None:\n",
        "        df = pd.read_excel(uploaded_file)\n",
        "        df.columns = df.columns.str.strip()\n",
        "        df['Age'] = pd.to_numeric(df['Age'], errors='coerce')\n",
        "        df['Growth_Category'] = (df['Age'] >= 5).astype(int)\n",
        "        practice_columns = [col for col in df.columns if col not in ['Company ID', 'Age', 'Growth_Category']]\n",
        "        practice_columns = [col for col in practice_columns if df[col].nunique() > 1]\n",
        "        df[practice_columns] = df[practice_columns].fillna(0).astype(int)\n",
        "        return df, practice_columns\n",
        "    else:\n",
        "        return None, None\n",
        "\n",
        "df, practice_columns = load_data()"
      ],
      "metadata": {
        "colab": {
          "base_uri": "https://localhost:8080/"
        },
        "id": "_ZI9j6KXaTFd",
        "outputId": "a36f0917-7ae6-4ffe-86b0-da6c173e3235"
      },
      "execution_count": 35,
      "outputs": [
        {
          "output_type": "stream",
          "name": "stderr",
          "text": [
            "2025-02-10 10:30:38.792 Thread 'MainThread': missing ScriptRunContext! This warning can be ignored when running in bare mode.\n",
            "2025-02-10 10:30:38.795 No runtime found, using MemoryCacheStorageManager\n",
            "2025-02-10 10:30:38.797 No runtime found, using MemoryCacheStorageManager\n",
            "2025-02-10 10:30:38.801 Thread 'MainThread': missing ScriptRunContext! This warning can be ignored when running in bare mode.\n",
            "2025-02-10 10:30:38.804 Thread 'MainThread': missing ScriptRunContext! This warning can be ignored when running in bare mode.\n",
            "2025-02-10 10:30:38.806 Thread 'MainThread': missing ScriptRunContext! This warning can be ignored when running in bare mode.\n",
            "2025-02-10 10:30:38.810 Thread 'MainThread': missing ScriptRunContext! This warning can be ignored when running in bare mode.\n",
            "2025-02-10 10:30:38.811 Thread 'MainThread': missing ScriptRunContext! This warning can be ignored when running in bare mode.\n",
            "2025-02-10 10:30:38.813 Thread 'MainThread': missing ScriptRunContext! This warning can be ignored when running in bare mode.\n",
            "2025-02-10 10:30:38.815 Thread 'MainThread': missing ScriptRunContext! This warning can be ignored when running in bare mode.\n",
            "2025-02-10 10:30:38.819 Thread 'MainThread': missing ScriptRunContext! This warning can be ignored when running in bare mode.\n",
            "2025-02-10 10:30:38.820 Thread 'MainThread': missing ScriptRunContext! This warning can be ignored when running in bare mode.\n",
            "2025-02-10 10:30:38.822 Thread 'MainThread': missing ScriptRunContext! This warning can be ignored when running in bare mode.\n",
            "2025-02-10 10:30:38.823 Thread 'MainThread': missing ScriptRunContext! This warning can be ignored when running in bare mode.\n",
            "2025-02-10 10:30:38.826 Thread 'MainThread': missing ScriptRunContext! This warning can be ignored when running in bare mode.\n",
            "2025-02-10 10:30:38.827 Thread 'MainThread': missing ScriptRunContext! This warning can be ignored when running in bare mode.\n"
          ]
        }
      ]
    },
    {
      "cell_type": "code",
      "source": [
        "# ---------------------- MODEL TRAINING FUNCTION ----------------------\n",
        "def train_model(df, practice_columns):\n",
        "    if df is not None and practice_columns:\n",
        "        X = df[practice_columns]\n",
        "        y = df['Growth_Category']\n",
        "        X_train, X_test, y_train, y_test = train_test_split(X, y, test_size=0.2, random_state=42)\n",
        "        rf_model = RandomForestClassifier(n_estimators=200, random_state=42)\n",
        "        rf_model.fit(X_train, y_train)\n",
        "        accuracy = accuracy_score(y_test, rf_model.predict(X_test))\n",
        "        feature_importance = pd.DataFrame({'Practice': X.columns, 'Importance': rf_model.feature_importances_})\n",
        "        feature_importance = feature_importance.sort_values(by=\"Importance\", ascending=False)\n",
        "        return rf_model, accuracy, feature_importance\n",
        "    return None, None, None\n",
        "\n",
        "rf_model, accuracy, feature_importance = train_model(df, practice_columns)"
      ],
      "metadata": {
        "id": "gr_tSZP8aWsP"
      },
      "execution_count": 36,
      "outputs": []
    },
    {
      "cell_type": "code",
      "source": [
        "# ---------------------- SIDEBAR NAVIGATION ----------------------\n",
        "st.sidebar.title(\"Navigation\")\n",
        "page = st.sidebar.radio(\"Go to:\", [\"Home\", \"Model Training\", \"User Assessment\", \"Results & Recommendations\"])\n",
        "\n",
        "# ---------------------- PAGE HANDLING ----------------------\n",
        "if page == \"Home\":\n",
        "    st.title(\"📊 Business Growth Recommender Dashboard\")\n",
        "    st.write(\"Upload your business dataset and get personalized recommendations to enhance growth!\")\n",
        "    st.info(\"Navigate using the sidebar to train the model and assess your business practices.\")\n",
        "    if df is not None:\n",
        "        st.success(\"Dataset successfully loaded! Proceed to Model Training.\")\n",
        "\n",
        "elif page == \"Model Training\":\n",
        "    st.title(\"⚙️ Model Training & Evaluation\")\n",
        "    if df is not None:\n",
        "        st.write(f\"Model Accuracy: **{accuracy:.2f}%**\")\n",
        "        st.subheader(\"Feature Importance\")\n",
        "        fig, ax = plt.subplots()\n",
        "        sns.barplot(x=feature_importance['Importance'][:10], y=feature_importance['Practice'][:10], palette='coolwarm', ax=ax)\n",
        "        ax.set_xlabel(\"Importance Score\")\n",
        "        ax.set_ylabel(\"Business Practices\")\n",
        "        st.pyplot(fig)\n",
        "        with open(\"random_forest_model.pkl\", \"wb\") as f:\n",
        "            pickle.dump(rf_model, f)\n",
        "    else:\n",
        "        st.warning(\"Please upload a dataset on the Home page.\")\n",
        "\n",
        "elif page == \"User Assessment\":\n",
        "    st.title(\"📋 Business Practice Assessment\")\n",
        "    st.write(\"Answer a few questions to analyze your business growth potential.\")\n",
        "    if rf_model is not None:\n",
        "        user_input = {}\n",
        "        for practice in feature_importance['Practice'].head(10):\n",
        "            user_input[practice] = st.radio(f\"Are you using {practice}?\", ('No', 'Yes'))\n",
        "        st.success(\"Responses recorded! Navigate to Results & Recommendations.\")\n",
        "    else:\n",
        "        st.warning(\"Please train the model first.\")\n",
        "\n",
        "elif page == \"Results & Recommendations\":\n",
        "    st.title(\"📈 Results & Recommendations\")\n",
        "    if rf_model is not None:\n",
        "        user_df = pd.DataFrame([{p: 1 if user_input.get(p, 'No') == 'Yes' else 0 for p in practice_columns}])\n",
        "        growth_probability = rf_model.predict_proba(user_df)[0][1] * 100\n",
        "        not_adapted = [practice for practice, value in user_input.items() if value == 'No']\n",
        "        recommendations = feature_importance[feature_importance['Practice'].isin(not_adapted)].sort_values(by=\"Importance\", ascending=False).head(5)['Practice'].tolist()\n",
        "        st.subheader(f\"Your business has a **{growth_probability:.2f}%** chance of growth.\")\n",
        "        if recommendations:\n",
        "            st.subheader(\"🚀 Recommended Practices to Adopt\")\n",
        "            for i, rec in enumerate(recommendations, start=1):\n",
        "                st.write(f\"{i}. **{rec}**\")\n",
        "        else:\n",
        "            st.success(\"Your business is already on a strong growth path! Keep focusing on your strengths.\")\n",
        "    else:\n",
        "        st.warning(\"Please complete the User Assessment first.\")\n"
      ],
      "metadata": {
        "colab": {
          "base_uri": "https://localhost:8080/"
        },
        "id": "QS9eu_CraZuY",
        "outputId": "3badb563-203f-406c-ad79-401e638d75c8"
      },
      "execution_count": 37,
      "outputs": [
        {
          "output_type": "stream",
          "name": "stderr",
          "text": [
            "2025-02-10 10:31:07.372 Thread 'MainThread': missing ScriptRunContext! This warning can be ignored when running in bare mode.\n",
            "2025-02-10 10:31:07.375 Thread 'MainThread': missing ScriptRunContext! This warning can be ignored when running in bare mode.\n",
            "2025-02-10 10:31:07.379 Thread 'MainThread': missing ScriptRunContext! This warning can be ignored when running in bare mode.\n",
            "2025-02-10 10:31:07.380 Thread 'MainThread': missing ScriptRunContext! This warning can be ignored when running in bare mode.\n",
            "2025-02-10 10:31:07.384 Thread 'MainThread': missing ScriptRunContext! This warning can be ignored when running in bare mode.\n",
            "2025-02-10 10:31:07.385 Thread 'MainThread': missing ScriptRunContext! This warning can be ignored when running in bare mode.\n",
            "2025-02-10 10:31:07.387 Thread 'MainThread': missing ScriptRunContext! This warning can be ignored when running in bare mode.\n",
            "2025-02-10 10:31:07.388 Thread 'MainThread': missing ScriptRunContext! This warning can be ignored when running in bare mode.\n",
            "2025-02-10 10:31:07.391 Thread 'MainThread': missing ScriptRunContext! This warning can be ignored when running in bare mode.\n",
            "2025-02-10 10:31:07.392 Thread 'MainThread': missing ScriptRunContext! This warning can be ignored when running in bare mode.\n",
            "2025-02-10 10:31:07.394 Thread 'MainThread': missing ScriptRunContext! This warning can be ignored when running in bare mode.\n",
            "2025-02-10 10:31:07.395 Thread 'MainThread': missing ScriptRunContext! This warning can be ignored when running in bare mode.\n",
            "2025-02-10 10:31:07.396 Thread 'MainThread': missing ScriptRunContext! This warning can be ignored when running in bare mode.\n",
            "2025-02-10 10:31:07.397 Thread 'MainThread': missing ScriptRunContext! This warning can be ignored when running in bare mode.\n",
            "2025-02-10 10:31:07.398 Thread 'MainThread': missing ScriptRunContext! This warning can be ignored when running in bare mode.\n",
            "2025-02-10 10:31:07.400 Thread 'MainThread': missing ScriptRunContext! This warning can be ignored when running in bare mode.\n"
          ]
        }
      ]
    }
  ]
}